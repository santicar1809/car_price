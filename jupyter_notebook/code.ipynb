{
 "cells": [
  {
   "cell_type": "markdown",
   "metadata": {},
   "source": [
    "# Descripción del proyecto\n",
    "\n",
    "Rusty Bargain es un servicio de venta de coches de segunda mano que está desarrollando una app para atraer a nuevos clientes. Gracias a esa app, puedes averiguar rápidamente el valor de mercado de tu coche. Tienes acceso al historial, especificaciones técnicas, versiones de equipamiento y precios. Tienes que crear un modelo que determine el valor de mercado.\n",
    "\n",
    "A Rusty Bargain le interesa:\n",
    "\n",
    "- la calidad de la predicción\n",
    "- la velocidad de la predicción\n",
    "- el tiempo requerido para el entrenamiento\n",
    "\n",
    "## Instrucciones del proyecto\n",
    "\n",
    "1. Descarga y examina los datos.\n",
    "2. Entrena diferentes modelos con varios hiperparámetros (debes hacer al menos dos modelos diferentes, pero más es mejor. 3. Recuerda, varias implementaciones de potenciación del gradiente no cuentan como modelos diferentes). El punto principal de este paso es comparar métodos de potenciación del gradiente con bosque aleatorio, árbol de decisión y regresión lineal.\n",
    "4. Analiza la velocidad y la calidad de los modelos.\n",
    "\n",
    "## Observaciones:\n",
    "\n",
    "- Utiliza la métrica RECM para evaluar los modelos.\n",
    "- La regresión lineal no es muy buena para el ajuste de hiperparámetros, pero es perfecta para hacer una prueba de cordura de otros métodos. Si la potenciación del gradiente funciona peor que la regresión lineal, definitivamente algo salió mal.\n",
    "- Aprende por tu propia cuenta sobre la librería LightGBM y sus herramientas para crear modelos de potenciación del gradiente (gradient boosting).\n",
    "- Idealmente, tu proyecto debe tener regresión lineal para una prueba de cordura, un algoritmo basado en árbol con ajuste de hiperparámetros (preferiblemente, bosque aleatorio), LightGBM con ajuste de hiperparámetros (prueba un par de conjuntos), y CatBoost y XGBoost con ajuste de hiperparámetros (opcional).\n",
    "- Toma nota de la codificación de características categóricas para algoritmos simples. LightGBM y CatBoost tienen su implementación, pero XGBoost requiere OHE.\n",
    "- Puedes usar un comando especial para encontrar el tiempo de ejecución del código de celda en Jupyter Notebook. Encuentra ese comando.\n",
    "- Dado que el entrenamiento de un modelo de potenciación del gradiente puede llevar mucho tiempo, cambia solo algunos parámetros del modelo.\n",
    "- Si Jupyter Notebook deja de funcionar, elimina las variables excesivas por medio del operador del:\n",
    "  \n",
    "## Descripción de los datos\n",
    "\n",
    "### Características\n",
    "\n",
    "- DateCrawled — fecha en la que se descargó el perfil de la base de datos\n",
    "- VehicleType — tipo de carrocería del vehículo\n",
    "- RegistrationYear — año de matriculación del vehículo\n",
    "- Gearbox — tipo de caja de cambios\n",
    "- Power — potencia (CV)\n",
    "- Model — modelo del vehículo\n",
    "- Mileage — kilometraje (medido en km de acuerdo con las especificidades regionales del conjunto de datos)\n",
    "- RegistrationMonth — mes de matriculación del vehículo\n",
    "- FuelType — tipo de combustible\n",
    "- Brand — marca del vehículo\n",
    "- NotRepaired — vehículo con o sin reparación\n",
    "- DateCreated — fecha de creación del perfil\n",
    "- NumberOfPictures — número de fotos del vehículo\n",
    "- PostalCode — código postal del propietario del perfil (usuario)\n",
    "- LastSeen — fecha de la última vez que el usuario estuvo activo\n",
    "\n",
    "### Objetivo\n",
    "\n",
    "Price — precio (en euros)\n",
    " \n",
    "## Evaluación del proyecto\n",
    "\n",
    "Hemos definido los criterios de evaluación para el proyecto. Léelos con atención antes de pasar al ejercicio.\n",
    "\n",
    "Esto es en lo que se fijarán los revisores al examinar tu proyecto:\n",
    "\n",
    "- ¿Seguiste todos los pasos de las instrucciones?\n",
    "- ¿Cómo preparaste los datos?\n",
    "- ¿Qué modelos e hiperparámetros consideraste?\n",
    "- ¿Conseguiste evitar la duplicación del código?\n",
    "- ¿Cuáles son tus hallazgos?\n",
    "- ¿Mantuviste la estructura del proyecto?\n",
    "- ¿Mantuviste el código ordenado?\n",
    "- Ya tienes tus hojas informativas y los resúmenes de los capítulos, por lo que todo está listo para continuar con el proyecto"
   ]
  },
  {
   "cell_type": "markdown",
   "metadata": {},
   "source": [
    "# Librerias"
   ]
  },
  {
   "cell_type": "code",
   "execution_count": 173,
   "metadata": {},
   "outputs": [],
   "source": [
    "import numpy as np\n",
    "import pandas as pd\n",
    "import matplotlib.pyplot as plt\n",
    "import seaborn as sns\n",
    "import re\n",
    "from scipy import stats as st\n",
    "from sklearn.neighbors import KNeighborsClassifier\n",
    "from sklearn.neighbors import NearestNeighbors\n",
    "import sklearn.linear_model\n",
    "from sklearn.impute import SimpleImputer\n",
    "from sklearn.model_selection import RandomizedSearchCV\n",
    "from sklearn.model_selection import GridSearchCV\n",
    "import sklearn.preprocessing\n",
    "import plotly.express as px\n",
    "from sklearn.model_selection import train_test_split\n",
    "from sklearn.pipeline import Pipeline\n",
    "from IPython.display import display\n",
    "from scipy.spatial import distance\n",
    "from sklearn.tree import DecisionTreeRegressor\n",
    "from sklearn.ensemble import RandomForestRegressor\n",
    "from sklearn.linear_model import LinearRegression\n",
    "from sklearn.preprocessing import StandardScaler\n",
    "from sklearn.metrics import (\n",
    "    r2_score,mean_squared_error\n",
    ")\n",
    "from sklearn.metrics import classification_report\n",
    "from sklearn.utils import shuffle\n",
    "from sklearn.metrics import roc_auc_score\n",
    "from sklearn.preprocessing import OneHotEncoder\n",
    "import lightgbm as lgb\n",
    "from catboost import Pool, CatBoostRegressor\n",
    "import xgboost as xgb\n",
    "import joblib"
   ]
  },
  {
   "cell_type": "markdown",
   "metadata": {},
   "source": [
    "# Cargue y limpieza de datos"
   ]
  },
  {
   "cell_type": "code",
   "execution_count": 174,
   "metadata": {},
   "outputs": [
    {
     "data": {
      "text/html": [
       "<div>\n",
       "<style scoped>\n",
       "    .dataframe tbody tr th:only-of-type {\n",
       "        vertical-align: middle;\n",
       "    }\n",
       "\n",
       "    .dataframe tbody tr th {\n",
       "        vertical-align: top;\n",
       "    }\n",
       "\n",
       "    .dataframe thead th {\n",
       "        text-align: right;\n",
       "    }\n",
       "</style>\n",
       "<table border=\"1\" class=\"dataframe\">\n",
       "  <thead>\n",
       "    <tr style=\"text-align: right;\">\n",
       "      <th></th>\n",
       "      <th>DateCrawled</th>\n",
       "      <th>Price</th>\n",
       "      <th>VehicleType</th>\n",
       "      <th>RegistrationYear</th>\n",
       "      <th>Gearbox</th>\n",
       "      <th>Power</th>\n",
       "      <th>Model</th>\n",
       "      <th>Mileage</th>\n",
       "      <th>RegistrationMonth</th>\n",
       "      <th>FuelType</th>\n",
       "      <th>Brand</th>\n",
       "      <th>NotRepaired</th>\n",
       "      <th>DateCreated</th>\n",
       "      <th>NumberOfPictures</th>\n",
       "      <th>PostalCode</th>\n",
       "      <th>LastSeen</th>\n",
       "    </tr>\n",
       "  </thead>\n",
       "  <tbody>\n",
       "    <tr>\n",
       "      <th>0</th>\n",
       "      <td>24/03/2016 11:52</td>\n",
       "      <td>480</td>\n",
       "      <td>NaN</td>\n",
       "      <td>1993</td>\n",
       "      <td>manual</td>\n",
       "      <td>0</td>\n",
       "      <td>golf</td>\n",
       "      <td>150000</td>\n",
       "      <td>0</td>\n",
       "      <td>petrol</td>\n",
       "      <td>volkswagen</td>\n",
       "      <td>NaN</td>\n",
       "      <td>24/03/2016 00:00</td>\n",
       "      <td>0</td>\n",
       "      <td>70435</td>\n",
       "      <td>07/04/2016 03:16</td>\n",
       "    </tr>\n",
       "    <tr>\n",
       "      <th>1</th>\n",
       "      <td>24/03/2016 10:58</td>\n",
       "      <td>18300</td>\n",
       "      <td>coupe</td>\n",
       "      <td>2011</td>\n",
       "      <td>manual</td>\n",
       "      <td>190</td>\n",
       "      <td>NaN</td>\n",
       "      <td>125000</td>\n",
       "      <td>5</td>\n",
       "      <td>gasoline</td>\n",
       "      <td>audi</td>\n",
       "      <td>yes</td>\n",
       "      <td>24/03/2016 00:00</td>\n",
       "      <td>0</td>\n",
       "      <td>66954</td>\n",
       "      <td>07/04/2016 01:46</td>\n",
       "    </tr>\n",
       "    <tr>\n",
       "      <th>2</th>\n",
       "      <td>14/03/2016 12:52</td>\n",
       "      <td>9800</td>\n",
       "      <td>suv</td>\n",
       "      <td>2004</td>\n",
       "      <td>auto</td>\n",
       "      <td>163</td>\n",
       "      <td>grand</td>\n",
       "      <td>125000</td>\n",
       "      <td>8</td>\n",
       "      <td>gasoline</td>\n",
       "      <td>jeep</td>\n",
       "      <td>NaN</td>\n",
       "      <td>14/03/2016 00:00</td>\n",
       "      <td>0</td>\n",
       "      <td>90480</td>\n",
       "      <td>05/04/2016 12:47</td>\n",
       "    </tr>\n",
       "    <tr>\n",
       "      <th>3</th>\n",
       "      <td>17/03/2016 16:54</td>\n",
       "      <td>1500</td>\n",
       "      <td>small</td>\n",
       "      <td>2001</td>\n",
       "      <td>manual</td>\n",
       "      <td>75</td>\n",
       "      <td>golf</td>\n",
       "      <td>150000</td>\n",
       "      <td>6</td>\n",
       "      <td>petrol</td>\n",
       "      <td>volkswagen</td>\n",
       "      <td>no</td>\n",
       "      <td>17/03/2016 00:00</td>\n",
       "      <td>0</td>\n",
       "      <td>91074</td>\n",
       "      <td>17/03/2016 17:40</td>\n",
       "    </tr>\n",
       "    <tr>\n",
       "      <th>4</th>\n",
       "      <td>31/03/2016 17:25</td>\n",
       "      <td>3600</td>\n",
       "      <td>small</td>\n",
       "      <td>2008</td>\n",
       "      <td>manual</td>\n",
       "      <td>69</td>\n",
       "      <td>fabia</td>\n",
       "      <td>90000</td>\n",
       "      <td>7</td>\n",
       "      <td>gasoline</td>\n",
       "      <td>skoda</td>\n",
       "      <td>no</td>\n",
       "      <td>31/03/2016 00:00</td>\n",
       "      <td>0</td>\n",
       "      <td>60437</td>\n",
       "      <td>06/04/2016 10:17</td>\n",
       "    </tr>\n",
       "  </tbody>\n",
       "</table>\n",
       "</div>"
      ],
      "text/plain": [
       "        DateCrawled  Price VehicleType  RegistrationYear Gearbox  Power  \\\n",
       "0  24/03/2016 11:52    480         NaN              1993  manual      0   \n",
       "1  24/03/2016 10:58  18300       coupe              2011  manual    190   \n",
       "2  14/03/2016 12:52   9800         suv              2004    auto    163   \n",
       "3  17/03/2016 16:54   1500       small              2001  manual     75   \n",
       "4  31/03/2016 17:25   3600       small              2008  manual     69   \n",
       "\n",
       "   Model  Mileage  RegistrationMonth  FuelType       Brand NotRepaired  \\\n",
       "0   golf   150000                  0    petrol  volkswagen         NaN   \n",
       "1    NaN   125000                  5  gasoline        audi         yes   \n",
       "2  grand   125000                  8  gasoline        jeep         NaN   \n",
       "3   golf   150000                  6    petrol  volkswagen          no   \n",
       "4  fabia    90000                  7  gasoline       skoda          no   \n",
       "\n",
       "        DateCreated  NumberOfPictures  PostalCode          LastSeen  \n",
       "0  24/03/2016 00:00                 0       70435  07/04/2016 03:16  \n",
       "1  24/03/2016 00:00                 0       66954  07/04/2016 01:46  \n",
       "2  14/03/2016 00:00                 0       90480  05/04/2016 12:47  \n",
       "3  17/03/2016 00:00                 0       91074  17/03/2016 17:40  \n",
       "4  31/03/2016 00:00                 0       60437  06/04/2016 10:17  "
      ]
     },
     "execution_count": 174,
     "metadata": {},
     "output_type": "execute_result"
    }
   ],
   "source": [
    "df=pd.read_csv('datasets/car_data.csv')\n",
    "df.head()"
   ]
  },
  {
   "cell_type": "code",
   "execution_count": 175,
   "metadata": {},
   "outputs": [
    {
     "name": "stdout",
     "output_type": "stream",
     "text": [
      "<class 'pandas.core.frame.DataFrame'>\n",
      "RangeIndex: 354369 entries, 0 to 354368\n",
      "Data columns (total 16 columns):\n",
      " #   Column             Non-Null Count   Dtype \n",
      "---  ------             --------------   ----- \n",
      " 0   DateCrawled        354369 non-null  object\n",
      " 1   Price              354369 non-null  int64 \n",
      " 2   VehicleType        316879 non-null  object\n",
      " 3   RegistrationYear   354369 non-null  int64 \n",
      " 4   Gearbox            334536 non-null  object\n",
      " 5   Power              354369 non-null  int64 \n",
      " 6   Model              334664 non-null  object\n",
      " 7   Mileage            354369 non-null  int64 \n",
      " 8   RegistrationMonth  354369 non-null  int64 \n",
      " 9   FuelType           321474 non-null  object\n",
      " 10  Brand              354369 non-null  object\n",
      " 11  NotRepaired        283215 non-null  object\n",
      " 12  DateCreated        354369 non-null  object\n",
      " 13  NumberOfPictures   354369 non-null  int64 \n",
      " 14  PostalCode         354369 non-null  int64 \n",
      " 15  LastSeen           354369 non-null  object\n",
      "dtypes: int64(7), object(9)\n",
      "memory usage: 43.3+ MB\n"
     ]
    }
   ],
   "source": [
    "df.info()"
   ]
  },
  {
   "cell_type": "code",
   "execution_count": 176,
   "metadata": {},
   "outputs": [],
   "source": [
    "#df=df.sample(1000,random_state=12345)"
   ]
  },
  {
   "cell_type": "code",
   "execution_count": 177,
   "metadata": {},
   "outputs": [],
   "source": [
    "#Funcion para pasar columnas al formato snake_case\n",
    "def to_snake_case(name):\n",
    "    s1 = re.sub('(.)([A-Z][a-z]+)', r'\\1_\\2', name)\n",
    "    s1 = s1.replace(' ','_')\n",
    "    return re.sub('([a-z0-9])([A-Z])', r'\\1_\\2', s1).lower()"
   ]
  },
  {
   "cell_type": "code",
   "execution_count": 178,
   "metadata": {},
   "outputs": [
    {
     "name": "stdout",
     "output_type": "stream",
     "text": [
      "Index(['date_crawled', 'price', 'vehicle_type', 'registration_year', 'gearbox',\n",
      "       'power', 'model', 'mileage', 'registration_month', 'fuel_type', 'brand',\n",
      "       'not_repaired', 'date_created', 'number_of_pictures', 'postal_code',\n",
      "       'last_seen'],\n",
      "      dtype='object')\n"
     ]
    }
   ],
   "source": [
    "#Pasamos las columnas al modo snake_case\n",
    "columns=df.columns\n",
    "new_cols=[]\n",
    "for i in columns:\n",
    "    i=to_snake_case(i)\n",
    "    new_cols.append(i)\n",
    "df.columns=new_cols\n",
    "print(df.columns)"
   ]
  },
  {
   "cell_type": "code",
   "execution_count": 179,
   "metadata": {},
   "outputs": [],
   "source": [
    "#Pasamos datos categoricos a texto\n",
    "df['postal_code']=df['postal_code'].astype('str')\n"
   ]
  },
  {
   "cell_type": "code",
   "execution_count": 180,
   "metadata": {},
   "outputs": [],
   "source": [
    "df.drop(['date_crawled','date_created','number_of_pictures','last_seen','postal_code'],axis=1,inplace=True)"
   ]
  },
  {
   "cell_type": "code",
   "execution_count": 181,
   "metadata": {},
   "outputs": [
    {
     "data": {
      "text/html": [
       "<div>\n",
       "<style scoped>\n",
       "    .dataframe tbody tr th:only-of-type {\n",
       "        vertical-align: middle;\n",
       "    }\n",
       "\n",
       "    .dataframe tbody tr th {\n",
       "        vertical-align: top;\n",
       "    }\n",
       "\n",
       "    .dataframe thead th {\n",
       "        text-align: right;\n",
       "    }\n",
       "</style>\n",
       "<table border=\"1\" class=\"dataframe\">\n",
       "  <thead>\n",
       "    <tr style=\"text-align: right;\">\n",
       "      <th></th>\n",
       "      <th>price</th>\n",
       "      <th>registration_year</th>\n",
       "      <th>power</th>\n",
       "      <th>mileage</th>\n",
       "      <th>registration_month</th>\n",
       "    </tr>\n",
       "  </thead>\n",
       "  <tbody>\n",
       "    <tr>\n",
       "      <th>count</th>\n",
       "      <td>354369.000000</td>\n",
       "      <td>354369.000000</td>\n",
       "      <td>354369.000000</td>\n",
       "      <td>354369.000000</td>\n",
       "      <td>354369.000000</td>\n",
       "    </tr>\n",
       "    <tr>\n",
       "      <th>mean</th>\n",
       "      <td>4416.656776</td>\n",
       "      <td>2004.234448</td>\n",
       "      <td>110.094337</td>\n",
       "      <td>128211.172535</td>\n",
       "      <td>5.714645</td>\n",
       "    </tr>\n",
       "    <tr>\n",
       "      <th>std</th>\n",
       "      <td>4514.158514</td>\n",
       "      <td>90.227958</td>\n",
       "      <td>189.850405</td>\n",
       "      <td>37905.341530</td>\n",
       "      <td>3.726421</td>\n",
       "    </tr>\n",
       "    <tr>\n",
       "      <th>min</th>\n",
       "      <td>0.000000</td>\n",
       "      <td>1000.000000</td>\n",
       "      <td>0.000000</td>\n",
       "      <td>5000.000000</td>\n",
       "      <td>0.000000</td>\n",
       "    </tr>\n",
       "    <tr>\n",
       "      <th>25%</th>\n",
       "      <td>1050.000000</td>\n",
       "      <td>1999.000000</td>\n",
       "      <td>69.000000</td>\n",
       "      <td>125000.000000</td>\n",
       "      <td>3.000000</td>\n",
       "    </tr>\n",
       "    <tr>\n",
       "      <th>50%</th>\n",
       "      <td>2700.000000</td>\n",
       "      <td>2003.000000</td>\n",
       "      <td>105.000000</td>\n",
       "      <td>150000.000000</td>\n",
       "      <td>6.000000</td>\n",
       "    </tr>\n",
       "    <tr>\n",
       "      <th>75%</th>\n",
       "      <td>6400.000000</td>\n",
       "      <td>2008.000000</td>\n",
       "      <td>143.000000</td>\n",
       "      <td>150000.000000</td>\n",
       "      <td>9.000000</td>\n",
       "    </tr>\n",
       "    <tr>\n",
       "      <th>max</th>\n",
       "      <td>20000.000000</td>\n",
       "      <td>9999.000000</td>\n",
       "      <td>20000.000000</td>\n",
       "      <td>150000.000000</td>\n",
       "      <td>12.000000</td>\n",
       "    </tr>\n",
       "  </tbody>\n",
       "</table>\n",
       "</div>"
      ],
      "text/plain": [
       "               price  registration_year          power        mileage  \\\n",
       "count  354369.000000      354369.000000  354369.000000  354369.000000   \n",
       "mean     4416.656776        2004.234448     110.094337  128211.172535   \n",
       "std      4514.158514          90.227958     189.850405   37905.341530   \n",
       "min         0.000000        1000.000000       0.000000    5000.000000   \n",
       "25%      1050.000000        1999.000000      69.000000  125000.000000   \n",
       "50%      2700.000000        2003.000000     105.000000  150000.000000   \n",
       "75%      6400.000000        2008.000000     143.000000  150000.000000   \n",
       "max     20000.000000        9999.000000   20000.000000  150000.000000   \n",
       "\n",
       "       registration_month  \n",
       "count       354369.000000  \n",
       "mean             5.714645  \n",
       "std              3.726421  \n",
       "min              0.000000  \n",
       "25%              3.000000  \n",
       "50%              6.000000  \n",
       "75%              9.000000  \n",
       "max             12.000000  "
      ]
     },
     "execution_count": 181,
     "metadata": {},
     "output_type": "execute_result"
    }
   ],
   "source": [
    "df.describe()"
   ]
  },
  {
   "cell_type": "markdown",
   "metadata": {},
   "source": [
    "Desde el $ df.info $ podemos ver bastantes diferencias entre columnas lo que puede significar en valores ausentes, lo cual ya veremos más a fondo."
   ]
  },
  {
   "cell_type": "markdown",
   "metadata": {},
   "source": [
    "## Ausentes"
   ]
  },
  {
   "cell_type": "code",
   "execution_count": 182,
   "metadata": {},
   "outputs": [
    {
     "name": "stdout",
     "output_type": "stream",
     "text": [
      "Porcentaje de significancia:\n",
      " price                     0\n",
      "vehicle_type          37490\n",
      "registration_year         0\n",
      "gearbox               19833\n",
      "power                     0\n",
      "model                 19705\n",
      "mileage                   0\n",
      "registration_month        0\n",
      "fuel_type             32895\n",
      "brand                     0\n",
      "not_repaired          71154\n",
      "dtype: int64\n"
     ]
    }
   ],
   "source": [
    "#Calculamos el número de ausentes\n",
    "print('Porcentaje de significancia:\\n',df.isna().sum())"
   ]
  },
  {
   "cell_type": "code",
   "execution_count": 183,
   "metadata": {},
   "outputs": [
    {
     "name": "stdout",
     "output_type": "stream",
     "text": [
      "Porcentaje de significancia: \n",
      " price                 0.000000\n",
      "vehicle_type          0.105794\n",
      "registration_year     0.000000\n",
      "gearbox               0.055967\n",
      "power                 0.000000\n",
      "model                 0.055606\n",
      "mileage               0.000000\n",
      "registration_month    0.000000\n",
      "fuel_type             0.092827\n",
      "brand                 0.000000\n",
      "not_repaired          0.200791\n",
      "dtype: float64\n"
     ]
    }
   ],
   "source": [
    "#Calculamos el porcentaje de significancia de los ausentes\n",
    "print('Porcentaje de significancia: \\n',df.isna().sum()/df.shape[0])"
   ]
  },
  {
   "cell_type": "code",
   "execution_count": 184,
   "metadata": {},
   "outputs": [],
   "source": [
    "def nan_values(data):\n",
    "    # Tratamiento de ausentes\n",
    "    null_cols=['vehicle_type','gearbox','model','fuel_type','not_repaired']\n",
    "    for column in null_cols:   \n",
    "        if data[column].isna().sum()/data.shape[0] < 0.15:\n",
    "            mode=data[column].mode()[0]\n",
    "            data[column].fillna(value=mode,inplace=True)\n",
    "        elif data[column].isna().sum()/data.shape[0] > 0.15:\n",
    "            data.dropna(inplace=True)\n",
    "        return data"
   ]
  },
  {
   "cell_type": "code",
   "execution_count": 185,
   "metadata": {},
   "outputs": [],
   "source": [
    "df=nan_values(df)"
   ]
  },
  {
   "cell_type": "code",
   "execution_count": 186,
   "metadata": {},
   "outputs": [
    {
     "name": "stdout",
     "output_type": "stream",
     "text": [
      "Porcentaje de significancia: \n",
      " price                  0.000000\n",
      "vehicle_type           0.000000\n",
      "registration_year      0.000000\n",
      "gearbox                5.596709\n",
      "power                  0.000000\n",
      "model                  5.560588\n",
      "mileage                0.000000\n",
      "registration_month     0.000000\n",
      "fuel_type              9.282697\n",
      "brand                  0.000000\n",
      "not_repaired          20.079070\n",
      "dtype: float64\n"
     ]
    }
   ],
   "source": [
    "#Calculamos el porcentaje de significancia de los ausentes\n",
    "print('Porcentaje de significancia: \\n',100*df.isna().sum()/df.shape[0])"
   ]
  },
  {
   "cell_type": "markdown",
   "metadata": {},
   "source": [
    "Vemos una gran cantidad de valores ausentes para la columna 'not_repaired' por lo tanto los vamos a eliminar, y el resto de columnas los imputaremos con el valor de la moda."
   ]
  },
  {
   "cell_type": "code",
   "execution_count": 187,
   "metadata": {},
   "outputs": [
    {
     "name": "stdout",
     "output_type": "stream",
     "text": [
      "0\n",
      "0\n",
      "0\n",
      "0\n"
     ]
    }
   ],
   "source": [
    "null_cols=['vehicle_type','gearbox','model','fuel_type']\n",
    "for col in null_cols:\n",
    "    mode=df[col].mode()[0]\n",
    "    df[col].fillna(value=mode,inplace=True)\n",
    "    print(df[col].isna().sum())\n"
   ]
  },
  {
   "cell_type": "code",
   "execution_count": 188,
   "metadata": {},
   "outputs": [
    {
     "name": "stdout",
     "output_type": "stream",
     "text": [
      "Porcentaje de significancia: \n",
      " price                  0.00000\n",
      "vehicle_type           0.00000\n",
      "registration_year      0.00000\n",
      "gearbox                0.00000\n",
      "power                  0.00000\n",
      "model                  0.00000\n",
      "mileage                0.00000\n",
      "registration_month     0.00000\n",
      "fuel_type              0.00000\n",
      "brand                  0.00000\n",
      "not_repaired          20.07907\n",
      "dtype: float64\n"
     ]
    }
   ],
   "source": [
    "#Calculamos el porcentaje de significancia de los ausentes\n",
    "print('Porcentaje de significancia: \\n',100*df.isna().sum()/df.shape[0])"
   ]
  },
  {
   "cell_type": "code",
   "execution_count": 189,
   "metadata": {},
   "outputs": [],
   "source": [
    "df.dropna(inplace=True)"
   ]
  },
  {
   "cell_type": "markdown",
   "metadata": {},
   "source": [
    "Aplicamos nuestras técnicas para eliminar los valores ausentes."
   ]
  },
  {
   "cell_type": "code",
   "execution_count": 190,
   "metadata": {},
   "outputs": [
    {
     "data": {
      "image/png": "[encoded data removed]",
      "text/plain": [
       "<Figure size 640x480 with 1 Axes>"
      ]
     },
     "metadata": {},
     "output_type": "display_data"
    },
    {
     "data": {
      "image/png": "[encoded data removed]",
      "text/plain": [
       "<Figure size 640x480 with 1 Axes>"
      ]
     },
     "metadata": {},
     "output_type": "display_data"
    },
    {
     "data": {
      "image/png": "[encoded data removed]",
      "text/plain": [
       "<Figure size 640x480 with 1 Axes>"
      ]
     },
     "metadata": {},
     "output_type": "display_data"
    }
   ],
   "source": [
    "numeric=['registration_year','registration_month','price']\n",
    "for column in numeric:\n",
    "    plt.boxplot(df[column])\n",
    "    plt.title(column)   \n",
    "    plt.show()"
   ]
  },
  {
   "cell_type": "markdown",
   "metadata": {},
   "source": [
    "Podemos ver varios datos atipicos en el año de registro, debido a que hay años mayores a la fecha actual, debemos reemplazarlos. De la misma manera debemos tener en cuenta los precios de los carros que son iguales a cero, debido a que no tiene sentido, los reemplazaremos con la media."
   ]
  },
  {
   "cell_type": "code",
   "execution_count": 191,
   "metadata": {},
   "outputs": [
    {
     "data": {
      "text/plain": [
       "Series([], Name: registration_year, dtype: int64)"
      ]
     },
     "execution_count": 191,
     "metadata": {},
     "output_type": "execute_result"
    }
   ],
   "source": [
    "\n",
    "df['registration_year'][df['registration_year']==0]"
   ]
  },
  {
   "cell_type": "code",
   "execution_count": 192,
   "metadata": {},
   "outputs": [
    {
     "name": "stderr",
     "output_type": "stream",
     "text": [
      "C:\\Users\\Santiago\\AppData\\Local\\Temp\\ipykernel_7900\\1874769975.py:1: SettingWithCopyWarning: \n",
      "A value is trying to be set on a copy of a slice from a DataFrame\n",
      "\n",
      "See the caveats in the documentation: https://pandas.pydata.org/pandas-docs/stable/user_guide/indexing.html#returning-a-view-versus-a-copy\n",
      "  df['registration_year'][df['registration_year']>2024]=0\n"
     ]
    }
   ],
   "source": [
    "df['registration_year'][df['registration_year']>2024]=0"
   ]
  },
  {
   "cell_type": "code",
   "execution_count": 193,
   "metadata": {},
   "outputs": [],
   "source": [
    "df['registration_year']=df['registration_year'].replace(0,df['registration_year'].mean())\n",
    "df['price']=df['price'].replace(0,df['price'].mean())"
   ]
  },
  {
   "cell_type": "code",
   "execution_count": 194,
   "metadata": {},
   "outputs": [],
   "source": [
    "df['registration_year']=df['registration_year'].astype('str')\n",
    "df['registration_month']=df['registration_month'].astype('str')\n",
    "df['price']=df['price'].astype('int')\n"
   ]
  },
  {
   "cell_type": "code",
   "execution_count": 195,
   "metadata": {},
   "outputs": [
    {
     "name": "stdout",
     "output_type": "stream",
     "text": [
      "registration_year\n",
      "1999.0    17879\n",
      "2005.0    17657\n",
      "2006.0    17623\n",
      "2000.0    17204\n",
      "2003.0    16686\n",
      "          ...  \n",
      "1941.0        1\n",
      "1936.0        1\n",
      "1933.0        1\n",
      "1925.0        1\n",
      "1600.0        1\n",
      "Name: count, Length: 99, dtype: int64\n",
      "registration_month\n",
      "3     29548\n",
      "6     26418\n",
      "4     24778\n",
      "5     24382\n",
      "7     22914\n",
      "10    22051\n",
      "11    20557\n",
      "12    20301\n",
      "9     20150\n",
      "1     19659\n",
      "8     19091\n",
      "2     18110\n",
      "0     15256\n",
      "Name: count, dtype: int64\n",
      "price\n",
      "4866     5484\n",
      "1500     4147\n",
      "500      4086\n",
      "2500     3489\n",
      "1200     3463\n",
      "         ... \n",
      "12660       1\n",
      "1208        1\n",
      "633         1\n",
      "1496        1\n",
      "14989       1\n",
      "Name: count, Length: 3506, dtype: int64\n"
     ]
    }
   ],
   "source": [
    "numeric=['registration_year','registration_month','price']\n",
    "for column in numeric:\n",
    "   print(df[column].value_counts())"
   ]
  },
  {
   "cell_type": "markdown",
   "metadata": {},
   "source": [
    "## Duplicados"
   ]
  },
  {
   "cell_type": "code",
   "execution_count": 196,
   "metadata": {},
   "outputs": [
    {
     "name": "stdout",
     "output_type": "stream",
     "text": [
      "Total duplicados: \n",
      " 23826\n"
     ]
    }
   ],
   "source": [
    "#Calculamos el porcentaje de significancia de los ausentes\n",
    "print('Total duplicados: \\n',df.duplicated().sum())"
   ]
  },
  {
   "cell_type": "code",
   "execution_count": 197,
   "metadata": {},
   "outputs": [
    {
     "name": "stdout",
     "output_type": "stream",
     "text": [
      "Total duplicados: \n",
      " 8.412690005825963\n"
     ]
    }
   ],
   "source": [
    "#Calculamos el porcentaje de significancia de los ausentes\n",
    "print('Total duplicados: \\n',100*df.duplicated().sum()/df.shape[0])"
   ]
  },
  {
   "cell_type": "markdown",
   "metadata": {},
   "source": [
    "Al tener un porcentaje de datos duplicados tan bajo, optamos por eliminarlos"
   ]
  },
  {
   "cell_type": "code",
   "execution_count": 198,
   "metadata": {},
   "outputs": [],
   "source": [
    "df.drop_duplicates(inplace=True)"
   ]
  },
  {
   "cell_type": "code",
   "execution_count": 199,
   "metadata": {},
   "outputs": [
    {
     "name": "stdout",
     "output_type": "stream",
     "text": [
      "Total duplicados: \n",
      " 0.0\n"
     ]
    }
   ],
   "source": [
    "#Calculamos el porcentaje de significancia de los ausentes\n",
    "print('Total duplicados: \\n',100*df.duplicated().sum()/df.shape[0])"
   ]
  },
  {
   "cell_type": "markdown",
   "metadata": {},
   "source": [
    "# Entrenamiento"
   ]
  },
  {
   "cell_type": "markdown",
   "metadata": {},
   "source": [
    "## Separamos los datos de entrenamiento y validación"
   ]
  },
  {
   "cell_type": "code",
   "execution_count": 200,
   "metadata": {},
   "outputs": [],
   "source": [
    "categorical=['vehicle_type', 'registration_year', 'gearbox',\n",
    "       'model', 'registration_month', 'fuel_type', 'brand',\n",
    "       'not_repaired']\n",
    "seed=12345\n",
    "features=df.drop(['price'],axis=1)\n",
    "target=df['price']\n",
    "features_oh=pd.get_dummies(features[categorical],drop_first=True)\n",
    "features_train,features_valid,target_train,target_valid=train_test_split(features,target,test_size=0.25,random_state=seed)\n",
    "features_train_oh,features_valid_oh,target_train_oh,target_valid_oh=train_test_split(features_oh,target,test_size=0.25,random_state=seed)"
   ]
  },
  {
   "cell_type": "markdown",
   "metadata": {},
   "source": [
    "## Modelos con potenciación del gradiente"
   ]
  },
  {
   "cell_type": "markdown",
   "metadata": {},
   "source": [
    "### Catboost Regressor"
   ]
  },
  {
   "cell_type": "code",
   "execution_count": 201,
   "metadata": {},
   "outputs": [
    {
     "name": "stdout",
     "output_type": "stream",
     "text": [
      "<class 'pandas.core.frame.DataFrame'>\n",
      "Index: 194541 entries, 226724 to 293562\n",
      "Data columns (total 10 columns):\n",
      " #   Column              Non-Null Count   Dtype \n",
      "---  ------              --------------   ----- \n",
      " 0   vehicle_type        194541 non-null  object\n",
      " 1   registration_year   194541 non-null  object\n",
      " 2   gearbox             194541 non-null  object\n",
      " 3   power               194541 non-null  int64 \n",
      " 4   model               194541 non-null  object\n",
      " 5   mileage             194541 non-null  int64 \n",
      " 6   registration_month  194541 non-null  object\n",
      " 7   fuel_type           194541 non-null  object\n",
      " 8   brand               194541 non-null  object\n",
      " 9   not_repaired        194541 non-null  object\n",
      "dtypes: int64(2), object(8)\n",
      "memory usage: 16.3+ MB\n"
     ]
    },
    {
     "data": {
      "text/plain": [
       "Index(['vehicle_type', 'registration_year', 'gearbox', 'power', 'model',\n",
       "       'mileage', 'registration_month', 'fuel_type', 'brand', 'not_repaired'],\n",
       "      dtype='object')"
      ]
     },
     "execution_count": 201,
     "metadata": {},
     "output_type": "execute_result"
    }
   ],
   "source": [
    "features_train.info()\n",
    "features_train.columns"
   ]
  },
  {
   "cell_type": "code",
   "execution_count": 202,
   "metadata": {},
   "outputs": [],
   "source": [
    "grid = {'iterations': [50],\n",
    "    'learning_rate': [0.03, 0.1],\n",
    "    'depth':[4, 6, 10],\n",
    "    'l2_leaf_reg': [1, 3, 5, 7, 9]\n",
    "}"
   ]
  },
  {
   "cell_type": "code",
   "execution_count": 203,
   "metadata": {},
   "outputs": [
    {
     "ename": "KeyboardInterrupt",
     "evalue": "",
     "output_type": "error",
     "traceback": [
      "\u001b[1;31m---------------------------------------------------------------------------\u001b[0m",
      "\u001b[1;31mKeyboardInterrupt\u001b[0m                         Traceback (most recent call last)",
      "File \u001b[1;32m<timed exec>:8\u001b[0m\n",
      "File \u001b[1;32mc:\\Users\\Santiago\\AppData\\Local\\Programs\\Python\\Python312\\Lib\\site-packages\\catboost\\core.py:4180\u001b[0m, in \u001b[0;36mCatBoost.grid_search\u001b[1;34m(self, param_grid, X, y, cv, partition_random_seed, calc_cv_statistics, search_by_train_test_split, refit, shuffle, stratified, train_size, verbose, plot, plot_file, log_cout, log_cerr)\u001b[0m\n\u001b[0;32m   4177\u001b[0m         \u001b[38;5;28;01mif\u001b[39;00m \u001b[38;5;129;01mnot\u001b[39;00m \u001b[38;5;28misinstance\u001b[39m(grid[key], Iterable):\n\u001b[0;32m   4178\u001b[0m             \u001b[38;5;28;01mraise\u001b[39;00m \u001b[38;5;167;01mTypeError\u001b[39;00m(\u001b[38;5;124m'\u001b[39m\u001b[38;5;124mParameter grid value is not iterable (key=\u001b[39m\u001b[38;5;132;01m{!r}\u001b[39;00m\u001b[38;5;124m, value=\u001b[39m\u001b[38;5;132;01m{!r}\u001b[39;00m\u001b[38;5;124m)\u001b[39m\u001b[38;5;124m'\u001b[39m\u001b[38;5;241m.\u001b[39mformat(key, grid[key]))\n\u001b[1;32m-> 4180\u001b[0m \u001b[38;5;28;01mreturn\u001b[39;00m \u001b[38;5;28;43mself\u001b[39;49m\u001b[38;5;241;43m.\u001b[39;49m\u001b[43m_tune_hyperparams\u001b[49m\u001b[43m(\u001b[49m\n\u001b[0;32m   4181\u001b[0m \u001b[43m    \u001b[49m\u001b[43mparam_grid\u001b[49m\u001b[38;5;241;43m=\u001b[39;49m\u001b[43mparam_grid\u001b[49m\u001b[43m,\u001b[49m\u001b[43m \u001b[49m\u001b[43mX\u001b[49m\u001b[38;5;241;43m=\u001b[39;49m\u001b[43mX\u001b[49m\u001b[43m,\u001b[49m\u001b[43m \u001b[49m\u001b[43my\u001b[49m\u001b[38;5;241;43m=\u001b[39;49m\u001b[43my\u001b[49m\u001b[43m,\u001b[49m\u001b[43m \u001b[49m\u001b[43mcv\u001b[49m\u001b[38;5;241;43m=\u001b[39;49m\u001b[43mcv\u001b[49m\u001b[43m,\u001b[49m\u001b[43m \u001b[49m\u001b[43mn_iter\u001b[49m\u001b[38;5;241;43m=\u001b[39;49m\u001b[38;5;241;43m-\u001b[39;49m\u001b[38;5;241;43m1\u001b[39;49m\u001b[43m,\u001b[49m\n\u001b[0;32m   4182\u001b[0m \u001b[43m    \u001b[49m\u001b[43mpartition_random_seed\u001b[49m\u001b[38;5;241;43m=\u001b[39;49m\u001b[43mpartition_random_seed\u001b[49m\u001b[43m,\u001b[49m\u001b[43m \u001b[49m\u001b[43mcalc_cv_statistics\u001b[49m\u001b[38;5;241;43m=\u001b[39;49m\u001b[43mcalc_cv_statistics\u001b[49m\u001b[43m,\u001b[49m\n\u001b[0;32m   4183\u001b[0m \u001b[43m    \u001b[49m\u001b[43msearch_by_train_test_split\u001b[49m\u001b[38;5;241;43m=\u001b[39;49m\u001b[43msearch_by_train_test_split\u001b[49m\u001b[43m,\u001b[49m\u001b[43m \u001b[49m\u001b[43mrefit\u001b[49m\u001b[38;5;241;43m=\u001b[39;49m\u001b[43mrefit\u001b[49m\u001b[43m,\u001b[49m\u001b[43m \u001b[49m\u001b[43mshuffle\u001b[49m\u001b[38;5;241;43m=\u001b[39;49m\u001b[43mshuffle\u001b[49m\u001b[43m,\u001b[49m\n\u001b[0;32m   4184\u001b[0m \u001b[43m    \u001b[49m\u001b[43mstratified\u001b[49m\u001b[38;5;241;43m=\u001b[39;49m\u001b[43mstratified\u001b[49m\u001b[43m,\u001b[49m\u001b[43m \u001b[49m\u001b[43mtrain_size\u001b[49m\u001b[38;5;241;43m=\u001b[39;49m\u001b[43mtrain_size\u001b[49m\u001b[43m,\u001b[49m\u001b[43m \u001b[49m\u001b[43mverbose\u001b[49m\u001b[38;5;241;43m=\u001b[39;49m\u001b[43mverbose\u001b[49m\u001b[43m,\u001b[49m\u001b[43m \u001b[49m\u001b[43mplot\u001b[49m\u001b[38;5;241;43m=\u001b[39;49m\u001b[43mplot\u001b[49m\u001b[43m,\u001b[49m\u001b[43m \u001b[49m\u001b[43mplot_file\u001b[49m\u001b[38;5;241;43m=\u001b[39;49m\u001b[43mplot_file\u001b[49m\u001b[43m,\u001b[49m\n\u001b[0;32m   4185\u001b[0m \u001b[43m    \u001b[49m\u001b[43mlog_cout\u001b[49m\u001b[38;5;241;43m=\u001b[39;49m\u001b[43mlog_cout\u001b[49m\u001b[43m,\u001b[49m\u001b[43m \u001b[49m\u001b[43mlog_cerr\u001b[49m\u001b[38;5;241;43m=\u001b[39;49m\u001b[43mlog_cerr\u001b[49m\u001b[43m,\u001b[49m\n\u001b[0;32m   4186\u001b[0m \u001b[43m\u001b[49m\u001b[43m)\u001b[49m\n",
      "File \u001b[1;32mc:\\Users\\Santiago\\AppData\\Local\\Programs\\Python\\Python312\\Lib\\site-packages\\catboost\\core.py:4072\u001b[0m, in \u001b[0;36mCatBoost._tune_hyperparams\u001b[1;34m(self, param_grid, X, y, cv, n_iter, partition_random_seed, calc_cv_statistics, search_by_train_test_split, refit, shuffle, stratified, train_size, verbose, plot, plot_file, log_cout, log_cerr)\u001b[0m\n\u001b[0;32m   4069\u001b[0m     stratified \u001b[38;5;241m=\u001b[39m \u001b[38;5;28misinstance\u001b[39m(loss_function, STRING_TYPES) \u001b[38;5;129;01mand\u001b[39;00m is_cv_stratified_objective(loss_function)\n\u001b[0;32m   4071\u001b[0m \u001b[38;5;28;01mwith\u001b[39;00m plot_wrapper(plot, plot_file, \u001b[38;5;124m'\u001b[39m\u001b[38;5;124mHyperparameters search plot\u001b[39m\u001b[38;5;124m'\u001b[39m, [_get_train_dir(params)]):\n\u001b[1;32m-> 4072\u001b[0m     cv_result \u001b[38;5;241m=\u001b[39m \u001b[38;5;28;43mself\u001b[39;49m\u001b[38;5;241;43m.\u001b[39;49m\u001b[43m_object\u001b[49m\u001b[38;5;241;43m.\u001b[39;49m\u001b[43m_tune_hyperparams\u001b[49m\u001b[43m(\u001b[49m\n\u001b[0;32m   4073\u001b[0m \u001b[43m        \u001b[49m\u001b[43mparam_grid\u001b[49m\u001b[43m,\u001b[49m\u001b[43m \u001b[49m\u001b[43mtrain_params\u001b[49m\u001b[43m[\u001b[49m\u001b[38;5;124;43m\"\u001b[39;49m\u001b[38;5;124;43mtrain_pool\u001b[39;49m\u001b[38;5;124;43m\"\u001b[39;49m\u001b[43m]\u001b[49m\u001b[43m,\u001b[49m\u001b[43m \u001b[49m\u001b[43mparams\u001b[49m\u001b[43m,\u001b[49m\u001b[43m \u001b[49m\u001b[43mn_iter\u001b[49m\u001b[43m,\u001b[49m\n\u001b[0;32m   4074\u001b[0m \u001b[43m        \u001b[49m\u001b[43mfold_count\u001b[49m\u001b[43m,\u001b[49m\u001b[43m \u001b[49m\u001b[43mpartition_random_seed\u001b[49m\u001b[43m,\u001b[49m\u001b[43m \u001b[49m\u001b[43mshuffle\u001b[49m\u001b[43m,\u001b[49m\u001b[43m \u001b[49m\u001b[43mstratified\u001b[49m\u001b[43m,\u001b[49m\u001b[43m \u001b[49m\u001b[43mtrain_size\u001b[49m\u001b[43m,\u001b[49m\n\u001b[0;32m   4075\u001b[0m \u001b[43m        \u001b[49m\u001b[43msearch_by_train_test_split\u001b[49m\u001b[43m,\u001b[49m\u001b[43m \u001b[49m\u001b[43mcalc_cv_statistics\u001b[49m\u001b[43m,\u001b[49m\u001b[43m \u001b[49m\u001b[43mcustom_folds\u001b[49m\u001b[43m,\u001b[49m\u001b[43m \u001b[49m\u001b[43mverbose\u001b[49m\n\u001b[0;32m   4076\u001b[0m \u001b[43m    \u001b[49m\u001b[43m)\u001b[49m\n\u001b[0;32m   4078\u001b[0m \u001b[38;5;28;01mif\u001b[39;00m refit:\n\u001b[0;32m   4079\u001b[0m     \u001b[38;5;28;01massert\u001b[39;00m \u001b[38;5;129;01mnot\u001b[39;00m \u001b[38;5;28mself\u001b[39m\u001b[38;5;241m.\u001b[39mis_fitted()\n",
      "File \u001b[1;32m_catboost.pyx:5340\u001b[0m, in \u001b[0;36m_catboost._CatBoost._tune_hyperparams\u001b[1;34m()\u001b[0m\n",
      "File \u001b[1;32m_catboost.pyx:5378\u001b[0m, in \u001b[0;36m_catboost._CatBoost._tune_hyperparams\u001b[1;34m()\u001b[0m\n",
      "\u001b[1;31mKeyboardInterrupt\u001b[0m: "
     ]
    }
   ],
   "source": [
    "%%time\n",
    "\n",
    "#Entrenamos el modelo\n",
    "features_total=['vehicle_type', 'registration_year', 'gearbox', 'power', 'model',\n",
    "       'mileage', 'registration_month', 'fuel_type', 'brand', 'not_repaired']\n",
    "features_cat=['vehicle_type', 'registration_year', 'gearbox', 'model', 'registration_month', 'fuel_type', 'brand', 'not_repaired']\n",
    "train_pool = Pool(features_train[features_total], label=target_train, cat_features=features_cat)\n",
    "valid_pool = Pool(features_valid[features_total], label=target_valid, cat_features=features_cat)\n",
    "model_cat=CatBoostRegressor(loss_function='RMSE',random_seed=seed)\n",
    "grid_search_cat=model_cat.grid_search(grid, train_pool, shuffle=False,verbose=3)\n",
    "best_params=grid_search_cat['params']\n",
    "print(best_params)"
   ]
  },
  {
   "cell_type": "code",
   "execution_count": null,
   "metadata": {},
   "outputs": [
    {
     "name": "stdout",
     "output_type": "stream",
     "text": [
      "0:\tlearn: 4294.1033276\ttest: 4268.2552431\tbest: 4268.2552431 (0)\ttotal: 129ms\tremaining: 6.33s\n",
      "10:\tlearn: 2616.7320490\ttest: 2591.9616725\tbest: 2591.9616725 (10)\ttotal: 1.29s\tremaining: 4.58s\n",
      "20:\tlearn: 2121.7200124\ttest: 2104.7513727\tbest: 2104.7513727 (20)\ttotal: 2.59s\tremaining: 3.57s\n",
      "30:\tlearn: 1927.4027488\ttest: 1915.1414871\tbest: 1915.1414871 (30)\ttotal: 3.79s\tremaining: 2.32s\n",
      "40:\tlearn: 1858.4172722\ttest: 1854.9972097\tbest: 1854.9972097 (40)\ttotal: 4.95s\tremaining: 1.08s\n",
      "49:\tlearn: 1821.9446702\ttest: 1825.1746428\tbest: 1825.1746428 (49)\ttotal: 5.97s\tremaining: 0us\n",
      "\n",
      "bestTest = 1825.174643\n",
      "bestIteration = 49\n",
      "\n",
      "R2 score: 0.842\n",
      "RMSE score: 1825.17\n"
     ]
    }
   ],
   "source": [
    "#Evaluamos el modelo\n",
    "\n",
    "best_model = CatBoostRegressor(**best_params)\n",
    "best_model.fit(train_pool, eval_set=valid_pool, verbose=10)\n",
    "predictions = best_model.predict(valid_pool)\n",
    "r2_rmse = r2_score(target_valid, predictions)\n",
    "rmse_score_rmse_model = np.sqrt(mean_squared_error(target_valid, predictions))\n",
    "print('R2 score: {:.3f}\\nRMSE score: {:.2f}'.format(r2_rmse, rmse_score_rmse_model))"
   ]
  },
  {
   "cell_type": "code",
   "execution_count": null,
   "metadata": {},
   "outputs": [
    {
     "data": {
      "text/plain": [
       "['models/model_cat.joblib']"
      ]
     },
     "execution_count": 30,
     "metadata": {},
     "output_type": "execute_result"
    }
   ],
   "source": [
    "joblib.dump(best_model,'models/model_cat.joblib')"
   ]
  },
  {
   "cell_type": "code",
   "execution_count": null,
   "metadata": {},
   "outputs": [],
   "source": [
    "categorical_features = ['vehicle_type', 'registration_year', 'gearbox', 'model', 'registration_month', 'fuel_type', 'brand', 'not_repaired']\n",
    "for i in categorical_features:\n",
    "    features_train[categorical_features]=features_train[categorical_features].astype('category')\n",
    "    features_valid[categorical_features]=features_valid[categorical_features].astype('category')"
   ]
  },
  {
   "cell_type": "code",
   "execution_count": null,
   "metadata": {},
   "outputs": [
    {
     "name": "stdout",
     "output_type": "stream",
     "text": [
      "<class 'pandas.core.frame.DataFrame'>\n",
      "Index: 194541 entries, 226724 to 293562\n",
      "Data columns (total 10 columns):\n",
      " #   Column              Non-Null Count   Dtype   \n",
      "---  ------              --------------   -----   \n",
      " 0   vehicle_type        194541 non-null  category\n",
      " 1   registration_year   194541 non-null  category\n",
      " 2   gearbox             194541 non-null  category\n",
      " 3   power               194541 non-null  int64   \n",
      " 4   model               194541 non-null  category\n",
      " 5   mileage             194541 non-null  int64   \n",
      " 6   registration_month  194541 non-null  category\n",
      " 7   fuel_type           194541 non-null  category\n",
      " 8   brand               194541 non-null  category\n",
      " 9   not_repaired        194541 non-null  category\n",
      "dtypes: category(8), int64(2)\n",
      "memory usage: 6.1 MB\n"
     ]
    }
   ],
   "source": [
    "features_train.info()"
   ]
  },
  {
   "cell_type": "markdown",
   "metadata": {},
   "source": [
    "## Light gbm sin optimizar hiperparametros"
   ]
  },
  {
   "cell_type": "code",
   "execution_count": null,
   "metadata": {},
   "outputs": [],
   "source": [
    "params = {\n",
    "    'objective': 'regression',\n",
    "    'metric': 'rmse'\n",
    "    }"
   ]
  },
  {
   "cell_type": "code",
   "execution_count": null,
   "metadata": {},
   "outputs": [
    {
     "name": "stdout",
     "output_type": "stream",
     "text": [
      "[LightGBM] [Info] Auto-choosing row-wise multi-threading, the overhead of testing was 0.016635 seconds.\n",
      "You can set `force_row_wise=true` to remove the overhead.\n",
      "And if memory is not enough, you can set `force_col_wise=true`.\n",
      "[LightGBM] [Info] Total Bins 668\n",
      "[LightGBM] [Info] Number of data points in the train set: 194541, number of used features: 10\n",
      "[LightGBM] [Info] Start training from score 4951.077511\n"
     ]
    },
    {
     "name": "stdout",
     "output_type": "stream",
     "text": [
      "R2 score: 0.860\n",
      "RMSE score: 1718.21\n",
      "CPU times: total: 9.19 s\n",
      "Wall time: 976 ms\n"
     ]
    }
   ],
   "source": [
    "%%time\n",
    "\n",
    "categorical_features = ['vehicle_type', 'registration_year', 'gearbox', 'model', 'registration_month', 'fuel_type', 'brand', 'not_repaired']\n",
    "lgb_train_features=lgb.Dataset(features_train,label=target_train,categorical_feature=categorical_features)\n",
    "lgb_valid_features=lgb.Dataset(features_valid,label=target_valid,reference=lgb_train_features)\n",
    "#Entrenamos el modelo\n",
    "model_lgbm=lgb.train(params,lgb_train_features,valid_sets=[lgb_train_features, lgb_valid_features])\n",
    "\n",
    "prediction = model_lgbm.predict(features_valid)\n",
    "# Evaluamos el modelo\n",
    "r2_rmse = r2_score(target_valid, prediction)\n",
    "rmse_score_rmse_model = np.sqrt(mean_squared_error(target_valid, prediction))\n",
    "print('R2 score: {:.3f}\\nRMSE score: {:.2f}'.format(r2_rmse, rmse_score_rmse_model))"
   ]
  },
  {
   "cell_type": "code",
   "execution_count": null,
   "metadata": {},
   "outputs": [
    {
     "data": {
      "text/plain": [
       "['models/model_lgbm.joblib']"
      ]
     },
     "execution_count": 35,
     "metadata": {},
     "output_type": "execute_result"
    }
   ],
   "source": [
    "joblib.dump(model_lgbm,'models/model_lgbm.joblib')"
   ]
  },
  {
   "cell_type": "markdown",
   "metadata": {},
   "source": [
    "## Light gbm optimizando hiperparametros"
   ]
  },
  {
   "cell_type": "code",
   "execution_count": null,
   "metadata": {},
   "outputs": [
    {
     "name": "stdout",
     "output_type": "stream",
     "text": [
      "[LightGBM] [Info] Total Bins 696\n",
      "[LightGBM] [Info] Number of data points in the train set: 129694, number of used features: 348\n",
      "[LightGBM] [Info] Start training from score 4948.495536\n",
      "[LightGBM] [Info] Total Bins 696\n",
      "[LightGBM] [Info] Number of data points in the train set: 129694, number of used features: 348\n",
      "[LightGBM] [Info] Start training from score 4963.684195\n",
      "[LightGBM] [Info] Total Bins 692\n",
      "[LightGBM] [Info] Number of data points in the train set: 129694, number of used features: 346\n",
      "[LightGBM] [Info] Start training from score 4941.052801\n",
      "[LightGBM] [Info] Total Bins 696\n",
      "[LightGBM] [Info] Number of data points in the train set: 129694, number of used features: 348\n",
      "[LightGBM] [Info] Start training from score 4948.495536\n",
      "[LightGBM] [Info] Total Bins 696\n",
      "[LightGBM] [Info] Number of data points in the train set: 129694, number of used features: 348\n",
      "[LightGBM] [Info] Start training from score 4963.684195\n",
      "[LightGBM] [Info] Total Bins 692\n",
      "[LightGBM] [Info] Number of data points in the train set: 129694, number of used features: 346\n",
      "[LightGBM] [Info] Start training from score 4941.052801\n",
      "[LightGBM] [Info] Total Bins 696\n",
      "[LightGBM] [Info] Number of data points in the train set: 129694, number of used features: 348\n",
      "[LightGBM] [Info] Start training from score 4948.495536\n",
      "[LightGBM] [Info] Total Bins 696\n",
      "[LightGBM] [Info] Number of data points in the train set: 129694, number of used features: 348\n",
      "[LightGBM] [Info] Start training from score 4963.684195\n",
      "[LightGBM] [Info] Total Bins 692\n",
      "[LightGBM] [Info] Number of data points in the train set: 129694, number of used features: 346\n",
      "[LightGBM] [Info] Start training from score 4941.052801\n",
      "[LightGBM] [Info] Total Bins 696\n",
      "[LightGBM] [Info] Number of data points in the train set: 129694, number of used features: 348\n",
      "[LightGBM] [Info] Start training from score 4948.495536\n",
      "[LightGBM] [Info] Total Bins 696\n",
      "[LightGBM] [Info] Number of data points in the train set: 129694, number of used features: 348\n",
      "[LightGBM] [Info] Start training from score 4963.684195\n",
      "[LightGBM] [Info] Total Bins 692\n",
      "[LightGBM] [Info] Number of data points in the train set: 129694, number of used features: 346\n",
      "[LightGBM] [Info] Start training from score 4941.052801\n",
      "[LightGBM] [Info] Total Bins 696\n",
      "[LightGBM] [Info] Number of data points in the train set: 129694, number of used features: 348\n",
      "[LightGBM] [Info] Start training from score 4948.495536\n",
      "[LightGBM] [Info] Total Bins 696\n",
      "[LightGBM] [Info] Number of data points in the train set: 129694, number of used features: 348\n",
      "[LightGBM] [Info] Start training from score 4963.684195\n",
      "[LightGBM] [Info] Total Bins 692\n",
      "[LightGBM] [Info] Number of data points in the train set: 129694, number of used features: 346\n",
      "[LightGBM] [Info] Start training from score 4941.052801\n",
      "[LightGBM] [Info] Total Bins 696\n",
      "[LightGBM] [Info] Number of data points in the train set: 129694, number of used features: 348\n",
      "[LightGBM] [Info] Start training from score 4948.495536\n",
      "[LightGBM] [Info] Total Bins 696\n",
      "[LightGBM] [Info] Number of data points in the train set: 129694, number of used features: 348\n",
      "[LightGBM] [Info] Start training from score 4963.684195\n",
      "[LightGBM] [Info] Total Bins 692\n",
      "[LightGBM] [Info] Number of data points in the train set: 129694, number of used features: 346\n",
      "[LightGBM] [Info] Start training from score 4941.052801\n",
      "[LightGBM] [Info] Total Bins 696\n",
      "[LightGBM] [Info] Number of data points in the train set: 129694, number of used features: 348\n",
      "[LightGBM] [Info] Start training from score 4948.495536\n",
      "[LightGBM] [Info] Total Bins 696\n",
      "[LightGBM] [Info] Number of data points in the train set: 129694, number of used features: 348\n",
      "[LightGBM] [Info] Start training from score 4963.684195\n",
      "[LightGBM] [Info] Total Bins 692\n",
      "[LightGBM] [Info] Number of data points in the train set: 129694, number of used features: 346\n",
      "[LightGBM] [Info] Start training from score 4941.052801\n",
      "[LightGBM] [Info] Total Bins 696\n",
      "[LightGBM] [Info] Number of data points in the train set: 129694, number of used features: 348\n",
      "[LightGBM] [Info] Start training from score 4948.495536\n",
      "[LightGBM] [Info] Total Bins 696\n",
      "[LightGBM] [Info] Number of data points in the train set: 129694, number of used features: 348\n",
      "[LightGBM] [Info] Start training from score 4963.684195\n",
      "[LightGBM] [Info] Total Bins 692\n",
      "[LightGBM] [Info] Number of data points in the train set: 129694, number of used features: 346\n",
      "[LightGBM] [Info] Start training from score 4941.052801\n",
      "[LightGBM] [Info] Total Bins 696\n",
      "[LightGBM] [Info] Number of data points in the train set: 129694, number of used features: 348\n",
      "[LightGBM] [Info] Start training from score 4948.495536\n",
      "[LightGBM] [Info] Total Bins 696\n",
      "[LightGBM] [Info] Number of data points in the train set: 129694, number of used features: 348\n",
      "[LightGBM] [Info] Start training from score 4963.684195\n",
      "[LightGBM] [Info] Total Bins 692\n",
      "[LightGBM] [Info] Number of data points in the train set: 129694, number of used features: 346\n",
      "[LightGBM] [Info] Start training from score 4941.052801\n",
      "[LightGBM] [Info] Total Bins 714\n",
      "[LightGBM] [Info] Number of data points in the train set: 194541, number of used features: 357\n",
      "[LightGBM] [Info] Start training from score 4951.077511\n",
      "Mejores parametros: {'learning_rate': 0.1, 'n_estimators': 50}\n",
      "Mejores parametros: 0.75\n",
      "RMSE: 2270.2878006984724\n",
      "r2:  0.7556723598557589\n",
      "CPU times: total: 1min 32s\n",
      "Wall time: 35 s\n"
     ]
    }
   ],
   "source": [
    "%%time\n",
    "\n",
    "#Entrenamos el modelo\n",
    "model_lg = lgb.LGBMRegressor(random_state=seed,force_col_wise=True)\n",
    "\n",
    "\n",
    "param_grid = {\n",
    "    'learning_rate': [0.01, 0.05, 0.1],\n",
    "    'n_estimators': [20, 30, 50]\n",
    "}\n",
    "\n",
    "\n",
    "grid = GridSearchCV(model_lg, param_grid, cv=3, scoring='r2')\n",
    "\n",
    "grid.fit(features_train_oh, target_train_oh)\n",
    "\n",
    "print(\"Mejores parametros:\", grid.best_params_)\n",
    "print(\"Mejores parametros: {:.2f}\".format(grid.best_score_))\n",
    "#Evaluamos el modelo\n",
    "best_model = grid.best_estimator_\n",
    "y_pred = best_model.predict(features_valid_oh)\n",
    "rmse = mean_squared_error(target_valid, y_pred)**0.5\n",
    "r2=r2_score(target_valid, y_pred)\n",
    "print(\"RMSE:\",rmse)\n",
    "print('r2: ',r2)"
   ]
  },
  {
   "cell_type": "code",
   "execution_count": null,
   "metadata": {},
   "outputs": [
    {
     "data": {
      "text/plain": [
       "['models/model_lg.joblib']"
      ]
     },
     "execution_count": 37,
     "metadata": {},
     "output_type": "execute_result"
    }
   ],
   "source": [
    "joblib.dump(best_model,'models/model_lg.joblib')"
   ]
  },
  {
   "cell_type": "markdown",
   "metadata": {},
   "source": [
    "## XGBoost"
   ]
  },
  {
   "cell_type": "code",
   "execution_count": null,
   "metadata": {},
   "outputs": [
    {
     "name": "stderr",
     "output_type": "stream",
     "text": [
      "c:\\Users\\Santiago\\AppData\\Local\\Programs\\Python\\Python312\\Lib\\site-packages\\xgboost\\core.py:727: FutureWarning: Pass `evals` as keyword args.\n",
      "  warnings.warn(msg, FutureWarning)\n"
     ]
    },
    {
     "name": "stdout",
     "output_type": "stream",
     "text": [
      "[0]\ttrain-rmse:4295.55596\teval-rmse:4271.21881\n",
      "[1]\ttrain-rmse:4024.50011\teval-rmse:4004.28553\n",
      "[2]\ttrain-rmse:3775.79566\teval-rmse:3755.66997\n",
      "[3]\ttrain-rmse:3539.11010\teval-rmse:3518.21274\n",
      "[4]\ttrain-rmse:3341.80430\teval-rmse:3315.66062\n",
      "[5]\ttrain-rmse:3203.41131\teval-rmse:3172.50976\n",
      "[6]\ttrain-rmse:3086.15045\teval-rmse:3053.49825\n",
      "[7]\ttrain-rmse:3008.97830\teval-rmse:2978.32658\n",
      "[8]\ttrain-rmse:2933.77526\teval-rmse:2905.33291\n",
      "[9]\ttrain-rmse:2880.35873\teval-rmse:2854.74578\n",
      "RMSE: 2854.745789051414\n",
      "r2:  0.6136813707680361\n",
      "CPU times: total: 18.5 s\n",
      "Wall time: 2.84 s\n"
     ]
    }
   ],
   "source": [
    "%%time\n",
    "#Entrenamos los datos\n",
    "dtrain=xgb.DMatrix(features_train_oh,label=target_train_oh)\n",
    "dtest=xgb.DMatrix(features_valid_oh,label=target_valid_oh)\n",
    "param = {'max_depth': 2, 'eta': 1, 'objective': 'reg:squarederror'}\n",
    "param['nthread'] = 4\n",
    "param['eval_metric'] = 'rmse'\n",
    "evallist = [(dtrain, 'train'), (dtest, 'eval')]\n",
    "num_round = 10\n",
    "bst = xgb.train(param, dtrain, num_round, evallist)\n",
    "\n",
    "#Evaluamos el modelo\n",
    "y_pred = bst.predict(dtest)\n",
    "xg_rmse=mean_squared_error(target_valid_oh,y_pred)**0.5\n",
    "xg_r2=r2_score(target_valid_oh,y_pred)\n",
    "print(\"RMSE:\",xg_rmse)\n",
    "print('r2: ',xg_r2)"
   ]
  },
  {
   "cell_type": "code",
   "execution_count": null,
   "metadata": {},
   "outputs": [
    {
     "data": {
      "text/plain": [
       "['models/bst.joblib']"
      ]
     },
     "execution_count": 39,
     "metadata": {},
     "output_type": "execute_result"
    }
   ],
   "source": [
    "joblib.dump(bst,'models/bst.joblib')"
   ]
  },
  {
   "cell_type": "markdown",
   "metadata": {},
   "source": [
    "## Creamos pipelines de los modelos que vamos a evaluar"
   ]
  },
  {
   "cell_type": "code",
   "execution_count": null,
   "metadata": {},
   "outputs": [],
   "source": [
    "#Escalamos nuestros datos\n",
    "numeric=['power','mileage']\n",
    "scaler=StandardScaler()\n",
    "scaler.fit(features_train[numeric])\n",
    "features_train_oh[numeric]=scaler.transform(features_train[numeric])\n",
    "features_valid_oh[numeric]=scaler.transform(features_valid[numeric])\n"
   ]
  },
  {
   "cell_type": "code",
   "execution_count": null,
   "metadata": {},
   "outputs": [],
   "source": [
    "# Comenzamos por los modelos sin potenciación del gradiente\n",
    "pipe_rf=Pipeline([('rf',RandomForestRegressor())])\n",
    "pipe_dt=Pipeline([('dt',DecisionTreeRegressor())])\n",
    "\n",
    "params=[{'rf__max_depth':[3,4,2,1],\n",
    "         'rf__min_samples_split':[5,10,11,12],\n",
    "         'rf__n_estimators':[10,20,30,40],\n",
    "         'rf__min_samples_leaf':[1, 2, 4],\n",
    "         'rf__bootstrap':[True, False],\n",
    "         'rf__max_features':[np.random.randint(1, 11)]},\n",
    "         {'dt__max_depth': [3,4,2,1],\n",
    "         'dt__max_features':[np.random.randint(1, 9)],\n",
    "         'dt__min_samples_leaf': [1, 2, 4]},\n",
    "         ]"
   ]
  },
  {
   "cell_type": "code",
   "execution_count": null,
   "metadata": {},
   "outputs": [
    {
     "name": "stdout",
     "output_type": "stream",
     "text": [
      "{'rf__n_estimators': 30, 'rf__min_samples_split': 11, 'rf__min_samples_leaf': 2, 'rf__max_features': 2, 'rf__max_depth': 4, 'rf__bootstrap': False}\n",
      "0.059336321345849874\n",
      "Pipeline(steps=[('rf',\n",
      "                 RandomForestRegressor(bootstrap=False, max_depth=4,\n",
      "                                       max_features=2, min_samples_leaf=2,\n",
      "                                       min_samples_split=11,\n",
      "                                       n_estimators=30))])\n",
      "RMSE: 4499.915814127213\n",
      "r2:  0.0401142437397225\n",
      "{'dt__min_samples_leaf': 2, 'dt__max_features': 7, 'dt__max_depth': 4}\n",
      "0.12482521299293453\n",
      "Pipeline(steps=[('dt',\n",
      "                 DecisionTreeRegressor(max_depth=4, max_features=7,\n",
      "                                       min_samples_leaf=2))])\n",
      "RMSE: 4571.060790009758\n",
      "r2:  0.009522160473748098\n",
      "CPU times: total: 13.2 s\n",
      "Wall time: 19.2 s\n"
     ]
    }
   ],
   "source": [
    "%%time\n",
    "#Entrenamos nuestros modelos\n",
    "\n",
    "pipes=[pipe_rf,pipe_dt]\n",
    "for pipe,grid in zip(pipes,params):\n",
    "    rs=RandomizedSearchCV(estimator=pipe,param_distributions=grid,scoring='r2',cv=2,random_state=seed)\n",
    "    rs.fit(features_train_oh,target_train_oh)\n",
    "    print(rs.best_params_)\n",
    "    print(rs.best_score_)\n",
    "    print(rs.best_estimator_)\n",
    "    random_prediction = rs.best_estimator_.predict(features_valid_oh)\n",
    "    random_rmse=mean_squared_error(target_valid_oh,random_prediction)**0.5\n",
    "    random_r2=r2_score(target_valid,random_prediction)\n",
    "    print(\"RMSE:\",random_rmse)\n",
    "    print('r2: ',random_r2)\n",
    "    "
   ]
  },
  {
   "cell_type": "markdown",
   "metadata": {},
   "source": [
    "# Modelamieto sin pipelines"
   ]
  },
  {
   "cell_type": "markdown",
   "metadata": {},
   "source": [
    "## Random Forest"
   ]
  },
  {
   "cell_type": "code",
   "execution_count": null,
   "metadata": {},
   "outputs": [],
   "source": [
    "params_rf={'max_depth':[3,4,2,1],\n",
    "         'min_samples_split':[5,10,11,12],\n",
    "         'n_estimators':[10,20,30,40],\n",
    "         'min_samples_leaf':[1, 2, 4],\n",
    "         'bootstrap':[True, False],\n",
    "         'max_features':[np.random.randint(1, 11)]}"
   ]
  },
  {
   "cell_type": "code",
   "execution_count": null,
   "metadata": {},
   "outputs": [
    {
     "name": "stdout",
     "output_type": "stream",
     "text": [
      "{'n_estimators': 10, 'min_samples_split': 5, 'min_samples_leaf': 1, 'max_features': 4, 'max_depth': 4, 'bootstrap': False}\n",
      "0.13030876532553815\n",
      "RandomForestRegressor(bootstrap=False, max_depth=4, max_features=4,\n",
      "                      min_samples_split=5, n_estimators=10)\n",
      "CPU times: total: 7.16 s\n",
      "Wall time: 10.9 s\n"
     ]
    }
   ],
   "source": [
    "%%time\n",
    "\n",
    "#Entrenamos el modelo\n",
    "model_rf=RandomForestRegressor()\n",
    "rs=RandomizedSearchCV(estimator=model_rf,param_distributions=params_rf,scoring='r2',cv=2,random_state=seed)\n",
    "rs.fit(features_train_oh,target_train_oh)\n",
    "print(rs.best_params_)\n",
    "print(rs.best_score_)\n",
    "print(rs.best_estimator_)\n"
   ]
  },
  {
   "cell_type": "code",
   "execution_count": null,
   "metadata": {},
   "outputs": [
    {
     "name": "stdout",
     "output_type": "stream",
     "text": [
      "RMSE: 4209.905593365246\n",
      "r2:  0.15985260863659323\n"
     ]
    }
   ],
   "source": [
    "#Evaluamos el modelo\n",
    "best_random = rs.best_estimator_\n",
    "random_prediction = best_random.predict(features_valid_oh)\n",
    "random_rmse=mean_squared_error(target_valid_oh,random_prediction)**0.5\n",
    "random_r2=r2_score(target_valid,random_prediction)\n",
    "print(\"RMSE:\",random_rmse)\n",
    "print('r2: ',random_r2)"
   ]
  },
  {
   "cell_type": "code",
   "execution_count": null,
   "metadata": {},
   "outputs": [
    {
     "data": {
      "text/plain": [
       "['models/rs.joblib']"
      ]
     },
     "execution_count": 46,
     "metadata": {},
     "output_type": "execute_result"
    }
   ],
   "source": [
    "joblib.dump(best_random,'models/rs.joblib')"
   ]
  },
  {
   "cell_type": "markdown",
   "metadata": {},
   "source": [
    "## Desicion Tree"
   ]
  },
  {
   "cell_type": "code",
   "execution_count": null,
   "metadata": {},
   "outputs": [],
   "source": [
    "params_dt={'max_depth': [3,4,2,1],\n",
    "         'max_features':[np.random.randint(1, 9)],\n",
    "         'min_samples_leaf': [1, 2, 4]}"
   ]
  },
  {
   "cell_type": "code",
   "execution_count": null,
   "metadata": {},
   "outputs": [
    {
     "name": "stdout",
     "output_type": "stream",
     "text": [
      "{'min_samples_leaf': 2, 'max_features': 3, 'max_depth': 4}\n",
      "0.10586375603035203\n",
      "DecisionTreeRegressor(max_depth=4, max_features=3, min_samples_leaf=2)\n",
      "CPU times: total: 5.3 s\n",
      "Wall time: 8.08 s\n"
     ]
    }
   ],
   "source": [
    "%%time\n",
    "\n",
    "#Entrenamos el modelo\n",
    "model_dt=DecisionTreeRegressor()\n",
    "dt=RandomizedSearchCV(estimator=model_dt,param_distributions=params_dt,scoring='r2',cv=2,random_state=seed)\n",
    "dt.fit(features_train_oh,target_train_oh)\n",
    "print(dt.best_params_)\n",
    "print(dt.best_score_)\n",
    "print(dt.best_estimator_)\n"
   ]
  },
  {
   "cell_type": "code",
   "execution_count": null,
   "metadata": {},
   "outputs": [
    {
     "name": "stdout",
     "output_type": "stream",
     "text": [
      "RMSE: 4571.9098023184515\n",
      "r2:  0.009154190756725411\n"
     ]
    }
   ],
   "source": [
    "#Evaluamos el modelo\n",
    "best_random_dt = dt.best_estimator_\n",
    "random_prediction_dt = best_random_dt.predict(features_valid_oh)\n",
    "random_rmse=mean_squared_error(target_valid_oh,random_prediction_dt)**0.5\n",
    "random_r2=r2_score(target_valid_oh,random_prediction_dt)\n",
    "print(\"RMSE:\",random_rmse)\n",
    "print('r2: ',random_r2)"
   ]
  },
  {
   "cell_type": "code",
   "execution_count": null,
   "metadata": {},
   "outputs": [
    {
     "data": {
      "text/plain": [
       "['models/dt.joblib']"
      ]
     },
     "execution_count": 50,
     "metadata": {},
     "output_type": "execute_result"
    }
   ],
   "source": [
    "joblib.dump(best_random_dt,'models/dt.joblib')"
   ]
  },
  {
   "cell_type": "markdown",
   "metadata": {},
   "source": [
    "## Linear Regression (Dummie Test)"
   ]
  },
  {
   "cell_type": "code",
   "execution_count": null,
   "metadata": {},
   "outputs": [
    {
     "name": "stdout",
     "output_type": "stream",
     "text": [
      "RMSE: 2329187786074.899\n",
      "r2:  -2.5716968771587603e+17\n",
      "CPU times: total: 19.7 s\n",
      "Wall time: 7.68 s\n"
     ]
    }
   ],
   "source": [
    "%%time\n",
    "\n",
    "#Entrenamos el modelo\n",
    "model_lr=LinearRegression()\n",
    "model_lr.fit(features_train_oh,target_train_oh)\n",
    "#Evaluamos el modelo\n",
    "linear_prediction=model_lr.predict(features_valid_oh)\n",
    "random_rmse=mean_squared_error(target_valid_oh,linear_prediction)**0.5\n",
    "random_r2=r2_score(target_valid_oh,linear_prediction)\n",
    "print(\"RMSE:\",random_rmse)\n",
    "print('r2: ',random_r2)\n"
   ]
  },
  {
   "cell_type": "code",
   "execution_count": null,
   "metadata": {},
   "outputs": [
    {
     "data": {
      "text/plain": [
       "['models/model_lf.joblib']"
      ]
     },
     "execution_count": 52,
     "metadata": {},
     "output_type": "execute_result"
    }
   ],
   "source": [
    "joblib.dump(model_lr,'models/model_lf.joblib')"
   ]
  },
  {
   "cell_type": "markdown",
   "metadata": {},
   "source": [
    "## Tabla de resultados"
   ]
  },
  {
   "cell_type": "code",
   "execution_count": null,
   "metadata": {},
   "outputs": [
    {
     "data": {
      "text/html": [
       "<div>\n",
       "<style scoped>\n",
       "    .dataframe tbody tr th:only-of-type {\n",
       "        vertical-align: middle;\n",
       "    }\n",
       "\n",
       "    .dataframe tbody tr th {\n",
       "        vertical-align: top;\n",
       "    }\n",
       "\n",
       "    .dataframe thead th {\n",
       "        text-align: right;\n",
       "    }\n",
       "</style>\n",
       "<table border=\"1\" class=\"dataframe\">\n",
       "  <thead>\n",
       "    <tr style=\"text-align: right;\">\n",
       "      <th></th>\n",
       "      <th>Modelo</th>\n",
       "      <th>RMSE</th>\n",
       "      <th>R2</th>\n",
       "      <th>Tiempo</th>\n",
       "    </tr>\n",
       "  </thead>\n",
       "  <tbody>\n",
       "    <tr>\n",
       "      <th>0</th>\n",
       "      <td>Cat_boost</td>\n",
       "      <td>1825.17</td>\n",
       "      <td>0.842</td>\n",
       "      <td>2min 25s</td>\n",
       "    </tr>\n",
       "    <tr>\n",
       "      <th>1</th>\n",
       "      <td>Light_gbm</td>\n",
       "      <td>1718.21</td>\n",
       "      <td>0.860</td>\n",
       "      <td>861 ms</td>\n",
       "    </tr>\n",
       "    <tr>\n",
       "      <th>2</th>\n",
       "      <td>Light_gbm_hyperparameters</td>\n",
       "      <td>2270.28</td>\n",
       "      <td>0.755</td>\n",
       "      <td>21.9 s</td>\n",
       "    </tr>\n",
       "    <tr>\n",
       "      <th>3</th>\n",
       "      <td>XGBoost</td>\n",
       "      <td>2854.74</td>\n",
       "      <td>0.613</td>\n",
       "      <td>2.62 s</td>\n",
       "    </tr>\n",
       "    <tr>\n",
       "      <th>4</th>\n",
       "      <td>RandomForestRegressor</td>\n",
       "      <td>4230.52</td>\n",
       "      <td>0.151</td>\n",
       "      <td>9.04 s</td>\n",
       "    </tr>\n",
       "    <tr>\n",
       "      <th>5</th>\n",
       "      <td>DecisionTreeRegressor</td>\n",
       "      <td>4569.04</td>\n",
       "      <td>0.010</td>\n",
       "      <td>7.22 s</td>\n",
       "    </tr>\n",
       "    <tr>\n",
       "      <th>6</th>\n",
       "      <td>LinearRegression</td>\n",
       "      <td>2329187786074.899</td>\n",
       "      <td>-2.571e+17</td>\n",
       "      <td>7.99 s</td>\n",
       "    </tr>\n",
       "  </tbody>\n",
       "</table>\n",
       "</div>"
      ],
      "text/plain": [
       "                      Modelo               RMSE          R2    Tiempo\n",
       "0                  Cat_boost            1825.17       0.842  2min 25s\n",
       "1                  Light_gbm            1718.21       0.860    861 ms\n",
       "2  Light_gbm_hyperparameters            2270.28       0.755    21.9 s\n",
       "3                    XGBoost            2854.74       0.613    2.62 s\n",
       "4      RandomForestRegressor            4230.52       0.151    9.04 s\n",
       "5      DecisionTreeRegressor            4569.04       0.010    7.22 s\n",
       "6           LinearRegression  2329187786074.899  -2.571e+17    7.99 s"
      ]
     },
     "execution_count": 53,
     "metadata": {},
     "output_type": "execute_result"
    }
   ],
   "source": [
    "datos={'Modelo':['Cat_boost','Light_gbm','Light_gbm_hyperparameters','XGBoost','RandomForestRegressor','DecisionTreeRegressor','LinearRegression'],\n",
    "       'RMSE':['1825.17','1718.21','2270.28','2854.74','4230.52','4569.04','2329187786074.899'],\n",
    "       'R2':['0.842','0.860','0.755','0.613','0.151','0.010','-2.571e+17'],\n",
    "       'Tiempo':['2min 25s','861 ms','21.9 s','2.62 s','9.04 s','7.22 s','7.99 s']}\n",
    "results=pd.DataFrame(datos)\n",
    "results.head(7)"
   ]
  },
  {
   "cell_type": "markdown",
   "metadata": {},
   "source": [
    "En la anterior tabla tenemos la muestra de los resultados de calidad de los modelos y de tiempo. Podemos ver que el modelo que tuvo la mejor calidad fue el Light_gbm con 1718.21 de error en el precio, seguido por el Cat_boost con 1825.17 de error en el precio y el Light_gbm con hyperparametros que obtuvo un error de 2270.28. Los mismos modelos obtuvieron un r2 de 0.860, 0.842 y 0.755. El modelo que tuvo un tiempo de ejecución menor fue el Light_gbm con tiempo de 918 microsegundos, seguido del XGBoost con 2.76 segundos y la regresion lineal con 7.75 segundos.\n",
    "\n",
    "En cuanto a la valoración general, podemos clasificar a Light_gbm, como el mejor modelo debido a que tiene el menor error y el menor tiempo de ejecución, superando al CatBoost en calidad y tiempo, debido a que este fue el modelo con mayor tiempo de ejecución.\n",
    "\n",
    "Respecto a la comparación de los modelos con potenciación del gradiente y los que no tienen potenciación, claramente vemos una diferencia grande, debido a que el modelo que menor error tuvo que no presenta potenciación del gradiente es el RandomForest que tuvo un error de 4230.53 y un r2 de 0.151.\n",
    "\n",
    "Por último comparando nuestros modelos con la regresión lineal que tuvo el peor resultado y era nuestra prueba de cordura, podemos decir que nuestros modelos fueron superiores a lo esperado.\n",
    " "
   ]
  },
  {
   "cell_type": "markdown",
   "metadata": {},
   "source": [
    "# Conclusiones\n",
    "\n",
    "1. El mejor modelo de predicción del precio de los carros fue el **Light_gbm con 1718.21 de error, 0.86 de r2 y tiempo de 918 ms**.\n",
    "\n",
    "2. Los modelos con potenciación del gradiente son superiores a los que no lo tienen y mejoran la calidad del modelo en gran medida.\n",
    "\n",
    "3. El tiempo de ejecución de los modelos con potenciación del gradiente fueron menores a los que no la tienen a excepción del **CatBoost** que es uno de los algoritmos más poderosos en cuanto a calidad, sin embargo, tuvo el tiempo de ejecución mayor con **2 minutos y 24 segundos**.\n",
    "\n",
    "4. Podemos tener modelos muy buenos en calidad, pero si este demora mucho tiempo, deja de ser un modelo valioso."
   ]
  }
 ],
 "metadata": {
  "kernelspec": {
   "display_name": "Python 3",
   "language": "python",
   "name": "python3"
  },
  "language_info": {
   "codemirror_mode": {
    "name": "ipython",
    "version": 3
   },
   "file_extension": ".py",
   "mimetype": "text/x-python",
   "name": "python",
   "nbconvert_exporter": "python",
   "pygments_lexer": "ipython3",
   "version": "3.12.0"
  }
 },
 "nbformat": 4,
 "nbformat_minor": 2
}
